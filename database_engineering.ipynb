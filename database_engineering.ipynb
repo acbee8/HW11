{
 "cells": [
  {
   "cell_type": "code",
   "execution_count": 60,
   "metadata": {},
   "outputs": [],
   "source": [
    "import sqlalchemy\n",
    "from sqlalchemy import create_engine\n",
    "import pymysql\n",
    "pymysql.install_as_MySQLdb()\n",
    "from sqlalchemy.ext.declarative import declarative_base\n",
    "from sqlalchemy import Column, Integer, String, Float, Date\n",
    "import pandas as pd\n",
    "import numpy as np\n"
   ]
  },
  {
   "cell_type": "code",
   "execution_count": 61,
   "metadata": {},
   "outputs": [
    {
     "name": "stdout",
     "output_type": "stream",
     "text": [
      "          id      station        date  prcp  tobs\n",
      "0          0  USC00519397  2010-01-01  0.08    65\n",
      "1          1  USC00519397  2010-01-02  0.00    63\n",
      "2          2  USC00519397  2010-01-03  0.00    74\n",
      "3          3  USC00519397  2010-01-04  0.00    76\n",
      "4          4  USC00519397  2010-01-06  0.00    73\n",
      "5          5  USC00519397  2010-01-07  0.06    70\n",
      "6          6  USC00519397  2010-01-08  0.00    64\n",
      "7          7  USC00519397  2010-01-09  0.00    68\n",
      "8          8  USC00519397  2010-01-10  0.00    73\n",
      "9          9  USC00519397  2010-01-11  0.01    64\n",
      "10        10  USC00519397  2010-01-12  0.00    61\n",
      "11        11  USC00519397  2010-01-14  0.00    66\n",
      "12        12  USC00519397  2010-01-15  0.00    65\n",
      "13        13  USC00519397  2010-01-16  0.00    68\n",
      "14        14  USC00519397  2010-01-17  0.00    64\n",
      "15        15  USC00519397  2010-01-18  0.00    72\n",
      "16        16  USC00519397  2010-01-19  0.00    66\n",
      "17        17  USC00519397  2010-01-20  0.00    66\n",
      "18        18  USC00519397  2010-01-21  0.00    69\n",
      "19        19  USC00519397  2010-01-22  0.00    67\n",
      "20        20  USC00519397  2010-01-23  0.00    67\n",
      "21        21  USC00519397  2010-01-24  0.01    71\n",
      "22        22  USC00519397  2010-01-25  0.00    67\n",
      "23        23  USC00519397  2010-01-26  0.04    76\n",
      "24        24  USC00519397  2010-01-27  0.12    68\n",
      "25        25  USC00519397  2010-01-28  0.00    72\n",
      "26        26  USC00519397  2010-01-30  0.00    70\n",
      "27        27  USC00519397  2010-01-31  0.03    67\n",
      "28        28  USC00519397  2010-02-01  0.01    66\n",
      "29        29  USC00519397  2010-02-03  0.00    67\n",
      "...      ...          ...         ...   ...   ...\n",
      "19520  19520  USC00516128  2017-07-24  0.84    77\n",
      "19521  19521  USC00516128  2017-07-25  0.30    79\n",
      "19522  19522  USC00516128  2017-07-26  0.30    73\n",
      "19523  19523  USC00516128  2017-07-27  0.00    75\n",
      "19524  19524  USC00516128  2017-07-28  0.40    73\n",
      "19525  19525  USC00516128  2017-07-29  0.30    77\n",
      "19526  19526  USC00516128  2017-07-30  0.30    79\n",
      "19527  19527  USC00516128  2017-07-31  0.00    74\n",
      "19528  19528  USC00516128  2017-08-01  0.00    72\n",
      "19529  19529  USC00516128  2017-08-02  0.25    80\n",
      "19530  19530  USC00516128  2017-08-03  0.06    76\n",
      "19531  19531  USC00516128  2017-08-05  0.00    77\n",
      "19532  19532  USC00516128  2017-08-06  0.00    79\n",
      "19533  19533  USC00516128  2017-08-07  0.05    78\n",
      "19534  19534  USC00516128  2017-08-08  0.34    74\n",
      "19535  19535  USC00516128  2017-08-09  0.15    71\n",
      "19536  19536  USC00516128  2017-08-10  0.07    75\n",
      "19537  19537  USC00516128  2017-08-11  0.00    72\n",
      "19538  19538  USC00516128  2017-08-12  0.14    74\n",
      "19539  19539  USC00516128  2017-08-13  0.00    80\n",
      "19540  19540  USC00516128  2017-08-14  0.22    79\n",
      "19541  19541  USC00516128  2017-08-15  0.42    70\n",
      "19542  19542  USC00516128  2017-08-16  0.42    71\n",
      "19543  19543  USC00516128  2017-08-17  0.13    72\n",
      "19544  19544  USC00516128  2017-08-18  0.00    76\n",
      "19545  19545  USC00516128  2017-08-19  0.09    71\n",
      "19546  19546  USC00516128  2017-08-20  0.00    78\n",
      "19547  19547  USC00516128  2017-08-21  0.56    76\n",
      "19548  19548  USC00516128  2017-08-22  0.50    76\n",
      "19549  19549  USC00516128  2017-08-23  0.45    76\n",
      "\n",
      "[19550 rows x 5 columns]\n"
     ]
    }
   ],
   "source": [
    "Base = declarative_base()\n",
    "measurements = pd.read_csv('Resources/cleaned_hawaii_measurements.csv')\n",
    "stations = pd.read_csv('Resources/cleaned_hawaii_stations.csv')\n",
    "print(measurements)\n"
   ]
  },
  {
   "cell_type": "code",
   "execution_count": 62,
   "metadata": {},
   "outputs": [],
   "source": [
    "engine = create_engine('sqlite:///Resources/database.sqlite')"
   ]
  },
  {
   "cell_type": "code",
   "execution_count": 63,
   "metadata": {},
   "outputs": [],
   "source": [
    "class Measurement(Base):\n",
    "   __tablename__ = 'measurements'\n",
    "   id = Column(Integer, primary_key=True)\n",
    "   station = Column(String)\n",
    "   date = Column(Date)\n",
    "   prcp = Column(Float)\n",
    "   tobs = Column(Integer)\n",
    "\n",
    "class Station(Base):\n",
    "    __tablename__ = 'stations'\n",
    "    id = Column(Integer, primary_key=True)\n",
    "    station = Column(String)\n",
    "    name = Column(String)\n",
    "    latitude = Column(Float)\n",
    "    longitude = Column(Float)\n",
    "    elevation = Column(Float)"
   ]
  },
  {
   "cell_type": "code",
   "execution_count": 64,
   "metadata": {},
   "outputs": [],
   "source": [
    "Base.metadata.create_all(engine)"
   ]
  },
  {
   "cell_type": "code",
   "execution_count": 65,
   "metadata": {},
   "outputs": [],
   "source": [
    "measurements.to_sql(name = 'measurements', con = engine, if_exists = 'append', index = False)\n",
    "stations.to_sql(name = 'stations', con = engine, if_exists = 'append', index = False)"
   ]
  },
  {
   "cell_type": "code",
   "execution_count": null,
   "metadata": {},
   "outputs": [],
   "source": []
  },
  {
   "cell_type": "code",
   "execution_count": null,
   "metadata": {},
   "outputs": [],
   "source": []
  }
 ],
 "metadata": {
  "kernelspec": {
   "display_name": "Python 3",
   "language": "python",
   "name": "python3"
  },
  "language_info": {
   "codemirror_mode": {
    "name": "ipython",
    "version": 3
   },
   "file_extension": ".py",
   "mimetype": "text/x-python",
   "name": "python",
   "nbconvert_exporter": "python",
   "pygments_lexer": "ipython3",
   "version": "3.6.5"
  }
 },
 "nbformat": 4,
 "nbformat_minor": 2
}
