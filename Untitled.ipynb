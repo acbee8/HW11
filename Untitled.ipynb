{
 "cells": [
  {
   "cell_type": "code",
   "execution_count": null,
   "metadata": {},
   "outputs": [],
   "source": [
    "ben [3:00 PM]\n",
    "import pandas as pd\n",
    "import numpy as np\n",
    "\n",
    "measurements_df = pd.read_csv('Resources/hawaii_measurements.csv')\n",
    "hawaii_stations_df = pd.read_csv('Resources/hawaii_stations.csv')\n",
    "\n",
    "print(list(hawaii_stations_df))\n",
    "print(measurements_df)\n",
    "\n",
    "def clean_prcp(amount):\n",
    "   if np.isnan(amount):\n",
    "       return 0\n",
    "   return amount\n",
    "   \n",
    "\n",
    "# Cleaned data\n",
    "measurements_df['prcp'] = measurements_df['prcp'].apply(clean_prcp)\n",
    "measurements_df.to_csv('Resources/clean_hawaii_measurements.csv', index=True, index_label=\"id\")\n",
    "\n",
    "# Already clean\n",
    "hawaii_stations_df.to_csv('Resources/clean_hawaii_stations.csv', index=False)\n",
    "\n",
    "print(list(measurements))\n",
    "class Measurement(Base):\n",
    "   __tablename__ = \"measurement\"\n",
    "   id = Column(Integer, primary_key=True)\n",
    "   station = Column(String)\n",
    "   date = Column(String)\n",
    "   prcp = Column(Float)\n",
    "   tobs = Column(Integer)\n",
    "   \n",
    "class Station(Base):\n",
    "   __tablename__ = \"station\"\n",
    "   station = Column(String, primary_key=True)\n",
    "   name = Column(String)\n",
    "   latitude = Column(Float)\n",
    "   longitude = Column(Float)\n",
    "   elevation = Column(Float)\n",
    "engine = create_engine('sqlite:///Resources/hawaii.sqlite')\n",
    "Base.metadata.create_all(engine)\n",
    "measurements.to_sql(name='measurement', con=engine, if_exists = 'append', index=False)\n",
    "hawaii_stations.to_sql(name='station', con=engine, if_exists = 'append', index=False)\n",
    "from sqlalchemy.orm import Session\n",
    "session = Session(bind=engine)\n",
    "measurements = session.query(Measurement)\n",
    "for measurement in measurements:\n",
    "   print(measurement)"
   ]
  }
 ],
 "metadata": {
  "kernelspec": {
   "display_name": "Python 3",
   "language": "python",
   "name": "python3"
  },
  "language_info": {
   "codemirror_mode": {
    "name": "ipython",
    "version": 3
   },
   "file_extension": ".py",
   "mimetype": "text/x-python",
   "name": "python",
   "nbconvert_exporter": "python",
   "pygments_lexer": "ipython3",
   "version": "3.6.5"
  }
 },
 "nbformat": 4,
 "nbformat_minor": 2
}
